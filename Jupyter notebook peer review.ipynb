{
 "cells": [
  {
   "cell_type": "markdown",
   "id": "42cd009d-11fa-47bf-952d-8d0219fca71d",
   "metadata": {},
   "source": [
    "# My Jupyter Notebook"
   ]
  },
  {
   "cell_type": "markdown",
   "id": "a6a15780-5bdb-4ea4-8f52-a735f672057c",
   "metadata": {},
   "source": [
    "**Arlene Xiao**"
   ]
  },
  {
   "cell_type": "markdown",
   "id": "c84dc1e2-8a0c-4f3f-bafa-9cdf14b9b0ee",
   "metadata": {},
   "source": [
    "*I'm interested in data science because it helps to generate ideas and insights.*"
   ]
  },
  {
   "cell_type": "markdown",
   "id": "ea11d7bd-8ecd-4f4f-9a8c-ebe33d7a83e0",
   "metadata": {},
   "source": [
    "### Multiplication and divison are granted a higher precedence than addition and subtraction in most computer languages."
   ]
  },
  {
   "cell_type": "code",
   "execution_count": 8,
   "id": "c0e45328-7515-4fc5-bc81-816ff8b5f2c7",
   "metadata": {},
   "outputs": [
    {
     "data": {
      "text/plain": [
       "16.6"
      ]
     },
     "execution_count": 8,
     "metadata": {},
     "output_type": "execute_result"
    }
   ],
   "source": [
    "1*9+8-2/5"
   ]
  },
  {
   "cell_type": "markdown",
   "id": "6f7f726b-c7e6-40b6-bbe4-38a7c77e2274",
   "metadata": {},
   "source": [
    "[Order of Operations](https://en.wikipedia.org/wiki/Order_of_operations)"
   ]
  },
  {
   "cell_type": "markdown",
   "id": "3c9d0484-fd24-44ba-981f-1a9c41946403",
   "metadata": {},
   "source": [
    "Markdown | Less | Pretty\n",
    "--- | --- | ---\n",
    "*Still* | `renders` | **nicely**\n",
    "1 | 2 | 3"
   ]
  },
  {
   "cell_type": "code",
   "execution_count": null,
   "id": "c7c796ec-f08a-4630-b110-01efeb14df23",
   "metadata": {},
   "outputs": [],
   "source": []
  }
 ],
 "metadata": {
  "kernelspec": {
   "display_name": "Python",
   "language": "python",
   "name": "conda-env-python-py"
  },
  "language_info": {
   "codemirror_mode": {
    "name": "ipython",
    "version": 3
   },
   "file_extension": ".py",
   "mimetype": "text/x-python",
   "name": "python",
   "nbconvert_exporter": "python",
   "pygments_lexer": "ipython3",
   "version": "3.7.12"
  }
 },
 "nbformat": 4,
 "nbformat_minor": 5
}
